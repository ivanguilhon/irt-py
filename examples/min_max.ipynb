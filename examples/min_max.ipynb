{
 "cells": [
  {
   "cell_type": "code",
   "execution_count": 47,
   "metadata": {},
   "outputs": [
    {
     "data": {
      "text/plain": [
       "<module 'tri' from '/home/master/Documentos/git/irt-py/tri.py'>"
      ]
     },
     "execution_count": 47,
     "metadata": {},
     "output_type": "execute_result"
    }
   ],
   "source": [
    "import sys\n",
    "import os\n",
    "import pandas as pd\n",
    "import numpy as np\n",
    "import matplotlib.pyplot as plt\n",
    "\n",
    "sys.path.append('/home/master/Documentos/git/irt-py/')\n",
    "import tri\n",
    "\n",
    "import importlib\n",
    "importlib.reload(tri)\n"
   ]
  },
  {
   "cell_type": "code",
   "execution_count": 48,
   "metadata": {},
   "outputs": [],
   "source": [
    "f_microdados='./ITENS_PROVA_2023.csv'\n",
    "dfGeral=pd.read_csv(f_microdados,encoding='latin1',sep=';', decimal='.')"
   ]
  },
  {
   "cell_type": "markdown",
   "metadata": {},
   "source": [
    "#matemática"
   ]
  },
  {
   "cell_type": "code",
   "execution_count": 49,
   "metadata": {},
   "outputs": [
    {
     "data": {
      "text/html": [
       "<div>\n",
       "<style scoped>\n",
       "    .dataframe tbody tr th:only-of-type {\n",
       "        vertical-align: middle;\n",
       "    }\n",
       "\n",
       "    .dataframe tbody tr th {\n",
       "        vertical-align: top;\n",
       "    }\n",
       "\n",
       "    .dataframe thead th {\n",
       "        text-align: right;\n",
       "    }\n",
       "</style>\n",
       "<table border=\"1\" class=\"dataframe\">\n",
       "  <thead>\n",
       "    <tr style=\"text-align: right;\">\n",
       "      <th></th>\n",
       "      <th>CO_POSICAO</th>\n",
       "      <th>SG_AREA</th>\n",
       "      <th>CO_ITEM</th>\n",
       "      <th>TX_GABARITO</th>\n",
       "      <th>CO_HABILIDADE</th>\n",
       "      <th>NU_PARAM_A</th>\n",
       "      <th>NU_PARAM_B</th>\n",
       "      <th>NU_PARAM_C</th>\n",
       "      <th>TX_COR</th>\n",
       "      <th>CO_PROVA</th>\n",
       "    </tr>\n",
       "  </thead>\n",
       "  <tbody>\n",
       "    <tr>\n",
       "      <th>950</th>\n",
       "      <td>136</td>\n",
       "      <td>MT</td>\n",
       "      <td>48324</td>\n",
       "      <td>B</td>\n",
       "      <td>8</td>\n",
       "      <td>2.09451</td>\n",
       "      <td>2.44818</td>\n",
       "      <td>0.25838</td>\n",
       "      <td>AZUL</td>\n",
       "      <td>1211</td>\n",
       "    </tr>\n",
       "    <tr>\n",
       "      <th>951</th>\n",
       "      <td>180</td>\n",
       "      <td>MT</td>\n",
       "      <td>125969</td>\n",
       "      <td>C</td>\n",
       "      <td>30</td>\n",
       "      <td>1.78452</td>\n",
       "      <td>0.74313</td>\n",
       "      <td>0.18879</td>\n",
       "      <td>AZUL</td>\n",
       "      <td>1211</td>\n",
       "    </tr>\n",
       "    <tr>\n",
       "      <th>952</th>\n",
       "      <td>179</td>\n",
       "      <td>MT</td>\n",
       "      <td>14366</td>\n",
       "      <td>C</td>\n",
       "      <td>1</td>\n",
       "      <td>1.52531</td>\n",
       "      <td>0.63295</td>\n",
       "      <td>0.18496</td>\n",
       "      <td>AZUL</td>\n",
       "      <td>1211</td>\n",
       "    </tr>\n",
       "    <tr>\n",
       "      <th>953</th>\n",
       "      <td>178</td>\n",
       "      <td>MT</td>\n",
       "      <td>111754</td>\n",
       "      <td>B</td>\n",
       "      <td>15</td>\n",
       "      <td>2.95569</td>\n",
       "      <td>2.84307</td>\n",
       "      <td>0.24511</td>\n",
       "      <td>AZUL</td>\n",
       "      <td>1211</td>\n",
       "    </tr>\n",
       "    <tr>\n",
       "      <th>954</th>\n",
       "      <td>177</td>\n",
       "      <td>MT</td>\n",
       "      <td>14389</td>\n",
       "      <td>A</td>\n",
       "      <td>15</td>\n",
       "      <td>0.96035</td>\n",
       "      <td>1.52433</td>\n",
       "      <td>0.14823</td>\n",
       "      <td>AZUL</td>\n",
       "      <td>1211</td>\n",
       "    </tr>\n",
       "  </tbody>\n",
       "</table>\n",
       "</div>"
      ],
      "text/plain": [
       "     CO_POSICAO SG_AREA  CO_ITEM TX_GABARITO  CO_HABILIDADE  NU_PARAM_A  \\\n",
       "950         136      MT    48324           B              8     2.09451   \n",
       "951         180      MT   125969           C             30     1.78452   \n",
       "952         179      MT    14366           C              1     1.52531   \n",
       "953         178      MT   111754           B             15     2.95569   \n",
       "954         177      MT    14389           A             15     0.96035   \n",
       "\n",
       "     NU_PARAM_B  NU_PARAM_C TX_COR  CO_PROVA  \n",
       "950     2.44818     0.25838   AZUL      1211  \n",
       "951     0.74313     0.18879   AZUL      1211  \n",
       "952     0.63295     0.18496   AZUL      1211  \n",
       "953     2.84307     0.24511   AZUL      1211  \n",
       "954     1.52433     0.14823   AZUL      1211  "
      ]
     },
     "execution_count": 49,
     "metadata": {},
     "output_type": "execute_result"
    }
   ],
   "source": [
    "\n",
    "dfMT=dfGeral[(dfGeral['IN_ITEM_ABAN']==0)&(dfGeral['SG_AREA']=='MT')&(dfGeral['TX_COR']=='AZUL')].drop(['IN_ITEM_ABAN', 'TX_MOTIVO_ABAN','TP_LINGUA','IN_ITEM_ADAPTADO'], axis=1)\n",
    "#dfMT=dfGeral[(dfGeral['IN_ITEM_ABAN']==0)&(dfGeral['SG_AREA']=='MT')&(dfGeral['TX_COR']=='AZUL')&(dfGeral['CO_PROVA']==1211)].drop(['IN_ITEM_ABAN', 'TX_MOTIVO_ABAN','TP_LINGUA','IN_ITEM_ADAPTADO'], axis=1)\n",
    "dfMT.head()\n"
   ]
  },
  {
   "cell_type": "code",
   "execution_count": 50,
   "metadata": {},
   "outputs": [
    {
     "name": "stdout",
     "output_type": "stream",
     "text": [
      "<class 'pandas.core.frame.DataFrame'>\n",
      "Index: 133 entries, 950 to 4364\n",
      "Data columns (total 10 columns):\n",
      " #   Column         Non-Null Count  Dtype  \n",
      "---  ------         --------------  -----  \n",
      " 0   CO_POSICAO     133 non-null    int64  \n",
      " 1   SG_AREA        133 non-null    object \n",
      " 2   CO_ITEM        133 non-null    int64  \n",
      " 3   TX_GABARITO    133 non-null    object \n",
      " 4   CO_HABILIDADE  133 non-null    int64  \n",
      " 5   NU_PARAM_A     133 non-null    float64\n",
      " 6   NU_PARAM_B     133 non-null    float64\n",
      " 7   NU_PARAM_C     133 non-null    float64\n",
      " 8   TX_COR         133 non-null    object \n",
      " 9   CO_PROVA       133 non-null    int64  \n",
      "dtypes: float64(3), int64(4), object(3)\n",
      "memory usage: 11.4+ KB\n"
     ]
    }
   ],
   "source": [
    "dfMT.info()"
   ]
  },
  {
   "cell_type": "code",
   "execution_count": 51,
   "metadata": {},
   "outputs": [],
   "source": [
    "examParameters=dfMT[['NU_PARAM_A','NU_PARAM_B','NU_PARAM_C']].copy()\n",
    "examParameters.reset_index(drop=True, inplace=True)\n",
    "examParameters['c']=examParameters['NU_PARAM_C']\n",
    "examParameters['a']=examParameters['NU_PARAM_A']\n",
    "examParameters['b']=examParameters['NU_PARAM_B']\n"
   ]
  },
  {
   "cell_type": "code",
   "execution_count": 52,
   "metadata": {},
   "outputs": [],
   "source": [
    "#examParameters"
   ]
  },
  {
   "cell_type": "code",
   "execution_count": 76,
   "metadata": {},
   "outputs": [
    {
     "name": "stdout",
     "output_type": "stream",
     "text": [
      "min= 319.222569541335\n",
      "max= 958.5260135484203\n"
     ]
    }
   ],
   "source": [
    "media=507\n",
    "desvio=104.42\n",
    "\n",
    "student_min=tri.Student(responses=[0]*len(dfMT),parameters=examParameters)\n",
    "\n",
    "print('min=', media+desvio*student_min.calculate_ability(method='EAP',scale_prior=1.0))\n",
    "\n",
    "student_max=tri.Student(responses=[1]*len(dfMT),parameters=examParameters)\n",
    "\n",
    "print('max=', media+desvio*(student_max.calculate_ability(method='EAP',scale_prior=1.0) ))\n",
    "\n"
   ]
  },
  {
   "cell_type": "markdown",
   "metadata": {},
   "source": [
    "#Ciências naturais\n"
   ]
  },
  {
   "cell_type": "code",
   "execution_count": 54,
   "metadata": {},
   "outputs": [
    {
     "data": {
      "text/html": [
       "<div>\n",
       "<style scoped>\n",
       "    .dataframe tbody tr th:only-of-type {\n",
       "        vertical-align: middle;\n",
       "    }\n",
       "\n",
       "    .dataframe tbody tr th {\n",
       "        vertical-align: top;\n",
       "    }\n",
       "\n",
       "    .dataframe thead th {\n",
       "        text-align: right;\n",
       "    }\n",
       "</style>\n",
       "<table border=\"1\" class=\"dataframe\">\n",
       "  <thead>\n",
       "    <tr style=\"text-align: right;\">\n",
       "      <th></th>\n",
       "      <th>CO_POSICAO</th>\n",
       "      <th>SG_AREA</th>\n",
       "      <th>CO_ITEM</th>\n",
       "      <th>TX_GABARITO</th>\n",
       "      <th>CO_HABILIDADE</th>\n",
       "      <th>NU_PARAM_A</th>\n",
       "      <th>NU_PARAM_B</th>\n",
       "      <th>NU_PARAM_C</th>\n",
       "      <th>TX_COR</th>\n",
       "      <th>CO_PROVA</th>\n",
       "    </tr>\n",
       "  </thead>\n",
       "  <tbody>\n",
       "    <tr>\n",
       "      <th>1400</th>\n",
       "      <td>91</td>\n",
       "      <td>CN</td>\n",
       "      <td>84422</td>\n",
       "      <td>D</td>\n",
       "      <td>4</td>\n",
       "      <td>1.25458</td>\n",
       "      <td>0.14732</td>\n",
       "      <td>0.00556</td>\n",
       "      <td>AZUL</td>\n",
       "      <td>1221</td>\n",
       "    </tr>\n",
       "    <tr>\n",
       "      <th>1401</th>\n",
       "      <td>135</td>\n",
       "      <td>CN</td>\n",
       "      <td>26042</td>\n",
       "      <td>D</td>\n",
       "      <td>19</td>\n",
       "      <td>3.98650</td>\n",
       "      <td>1.63479</td>\n",
       "      <td>0.19026</td>\n",
       "      <td>AZUL</td>\n",
       "      <td>1221</td>\n",
       "    </tr>\n",
       "    <tr>\n",
       "      <th>1402</th>\n",
       "      <td>134</td>\n",
       "      <td>CN</td>\n",
       "      <td>85436</td>\n",
       "      <td>E</td>\n",
       "      <td>29</td>\n",
       "      <td>1.56816</td>\n",
       "      <td>1.75342</td>\n",
       "      <td>0.18632</td>\n",
       "      <td>AZUL</td>\n",
       "      <td>1221</td>\n",
       "    </tr>\n",
       "    <tr>\n",
       "      <th>1403</th>\n",
       "      <td>133</td>\n",
       "      <td>CN</td>\n",
       "      <td>43890</td>\n",
       "      <td>E</td>\n",
       "      <td>27</td>\n",
       "      <td>3.63689</td>\n",
       "      <td>1.43988</td>\n",
       "      <td>0.18360</td>\n",
       "      <td>AZUL</td>\n",
       "      <td>1221</td>\n",
       "    </tr>\n",
       "    <tr>\n",
       "      <th>1404</th>\n",
       "      <td>132</td>\n",
       "      <td>CN</td>\n",
       "      <td>83558</td>\n",
       "      <td>E</td>\n",
       "      <td>21</td>\n",
       "      <td>1.52403</td>\n",
       "      <td>0.95966</td>\n",
       "      <td>0.15221</td>\n",
       "      <td>AZUL</td>\n",
       "      <td>1221</td>\n",
       "    </tr>\n",
       "  </tbody>\n",
       "</table>\n",
       "</div>"
      ],
      "text/plain": [
       "      CO_POSICAO SG_AREA  CO_ITEM TX_GABARITO  CO_HABILIDADE  NU_PARAM_A  \\\n",
       "1400          91      CN    84422           D              4     1.25458   \n",
       "1401         135      CN    26042           D             19     3.98650   \n",
       "1402         134      CN    85436           E             29     1.56816   \n",
       "1403         133      CN    43890           E             27     3.63689   \n",
       "1404         132      CN    83558           E             21     1.52403   \n",
       "\n",
       "      NU_PARAM_B  NU_PARAM_C TX_COR  CO_PROVA  \n",
       "1400     0.14732     0.00556   AZUL      1221  \n",
       "1401     1.63479     0.19026   AZUL      1221  \n",
       "1402     1.75342     0.18632   AZUL      1221  \n",
       "1403     1.43988     0.18360   AZUL      1221  \n",
       "1404     0.95966     0.15221   AZUL      1221  "
      ]
     },
     "execution_count": 54,
     "metadata": {},
     "output_type": "execute_result"
    }
   ],
   "source": [
    "\n",
    "#dfCN=dfGeral[(dfGeral['IN_ITEM_ABAN']==0)&(dfGeral['SG_AREA']=='CN')&(dfGeral['TX_COR']=='AZUL')].drop(['IN_ITEM_ABAN', 'TX_MOTIVO_ABAN','TP_LINGUA','IN_ITEM_ADAPTADO'], axis=1)\n",
    "dfCN=dfGeral[(dfGeral['IN_ITEM_ABAN']==0)&(dfGeral['SG_AREA']=='CN')&(dfGeral['TX_COR']=='AZUL')&(dfGeral['CO_PROVA']==1221)].drop(['IN_ITEM_ABAN', 'TX_MOTIVO_ABAN','TP_LINGUA','IN_ITEM_ADAPTADO'], axis=1)\n",
    "dfCN.head()\n",
    "\n"
   ]
  },
  {
   "cell_type": "code",
   "execution_count": 55,
   "metadata": {},
   "outputs": [],
   "source": [
    "examParametersCN=dfCN[['NU_PARAM_A','NU_PARAM_B','NU_PARAM_C']].copy()\n",
    "examParametersCN.reset_index(drop=True, inplace=True)\n",
    "examParametersCN['c']=examParametersCN['NU_PARAM_C']\n",
    "examParametersCN['a']=examParametersCN['NU_PARAM_A']\n",
    "examParametersCN['b']=examParametersCN['NU_PARAM_B']"
   ]
  },
  {
   "cell_type": "code",
   "execution_count": 78,
   "metadata": {},
   "outputs": [
    {
     "name": "stdout",
     "output_type": "stream",
     "text": [
      "min= 366.93825095684304\n",
      "max= 865.6638288796064\n"
     ]
    }
   ],
   "source": [
    "media=500\n",
    "desvio=100\n",
    "\n",
    "student_min=tri.Student(responses=[0]*len(dfCN),parameters=examParameters)\n",
    "\n",
    "print('min=', media+desvio*student_min.calculate_ability(method='EAP',scale_prior=1.0))\n",
    "\n",
    "student_max=tri.Student(responses=[1]*len(dfCN),parameters=examParameters)\n",
    "\n",
    "print('max=', media+desvio*student_max.calculate_ability(method='EAP',scale_prior=1.0))"
   ]
  }
 ],
 "metadata": {
  "kernelspec": {
   "display_name": "ds_enem",
   "language": "python",
   "name": "python3"
  },
  "language_info": {
   "codemirror_mode": {
    "name": "ipython",
    "version": 3
   },
   "file_extension": ".py",
   "mimetype": "text/x-python",
   "name": "python",
   "nbconvert_exporter": "python",
   "pygments_lexer": "ipython3",
   "version": "3.11.8"
  }
 },
 "nbformat": 4,
 "nbformat_minor": 2
}
