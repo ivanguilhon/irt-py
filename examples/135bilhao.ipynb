{
 "cells": [
  {
   "cell_type": "code",
   "execution_count": 1,
   "id": "f62911af-b352-457b-a366-340508f7df4d",
   "metadata": {},
   "outputs": [],
   "source": [
    "import sys\n",
    "\n",
    "# Substitua 'caminho/para/sua/pasta' pelo caminho absoluto da pasta que você deseja adicionar\n",
    "caminho_para_pasta = '/home/master/bin'\n",
    "\n",
    "if caminho_para_pasta not in sys.path:\n",
    "    sys.path.append(caminho_para_pasta)\n",
    "\n",
    "import tri"
   ]
  },
  {
   "cell_type": "code",
   "execution_count": 29,
   "id": "f60cd8da-789e-4a47-961c-15e53c842cd3",
   "metadata": {},
   "outputs": [],
   "source": [
    "import numpy as np\n",
    "import pandas as pd\n",
    "import seaborn as sns\n",
    "import matplotlib.pyplot as plt\n",
    "from sklearn import metrics\n",
    "import os\n",
    "import tri\n",
    "import scipy as sci\n",
    "from matplotlib.ticker import MultipleLocator"
   ]
  },
  {
   "cell_type": "code",
   "execution_count": 3,
   "id": "8fc49d38-58f8-47be-88e4-5d1136bd49a1",
   "metadata": {},
   "outputs": [],
   "source": [
    "f_itens22='/home/master/Documentos/ITA/pesquisa/LPECT/DADOS/ENEM/microdados_enem_2022/DADOS/ITENS_PROVA_2022.csv'\n",
    "\n",
    "df=pd.read_csv(f_itens22, encoding='latin',sep=';')"
   ]
  },
  {
   "cell_type": "code",
   "execution_count": 4,
   "id": "f49ac684-fa5c-4849-b81e-fbc98901c9de",
   "metadata": {},
   "outputs": [
    {
     "data": {
      "text/plain": [
       "Index(['CO_POSICAO', 'SG_AREA', 'CO_ITEM', 'TX_GABARITO', 'CO_HABILIDADE',\n",
       "       'IN_ITEM_ABAN', 'TX_MOTIVO_ABAN', 'NU_PARAM_A', 'NU_PARAM_B',\n",
       "       'NU_PARAM_C', 'TX_COR', 'CO_PROVA', 'TP_LINGUA', 'IN_ITEM_ADAPTADO'],\n",
       "      dtype='object')"
      ]
     },
     "execution_count": 4,
     "metadata": {},
     "output_type": "execute_result"
    }
   ],
   "source": [
    "df.columns"
   ]
  },
  {
   "cell_type": "markdown",
   "id": "c28a5e8b-060b-4154-b386-5953c18f7a1b",
   "metadata": {},
   "source": [
    "# 1) Questão 175 - Prova Azul"
   ]
  },
  {
   "cell_type": "code",
   "execution_count": 5,
   "id": "3c080843-42f4-4ec1-bc05-0ee125c5cf7a",
   "metadata": {},
   "outputs": [
    {
     "data": {
      "text/html": [
       "<img src=\"https://s2-g1.glbimg.com/9aMKWG7TRkX_CzAw7Xa1jdhBX_Y=/0x0:1190x887/984x0/smart/filters:strip_icc()/i.s3.glbimg.com/v1/AUTH_59edd422c0c84a879bd37670ae4f538a/internal_photos/bs/2022/c/A/3DcPnMQC6h1d3HaneWDA/bilhao.jpg\" width=\"600\"/>"
      ],
      "text/plain": [
       "<IPython.core.display.Image object>"
      ]
     },
     "metadata": {},
     "output_type": "display_data"
    }
   ],
   "source": [
    "from IPython.display import Image, display\n",
    "\n",
    "# URL da imagem\n",
    "url = \"https://s2-g1.glbimg.com/9aMKWG7TRkX_CzAw7Xa1jdhBX_Y=/0x0:1190x887/984x0/smart/filters:strip_icc()/i.s3.glbimg.com/v1/AUTH_59edd422c0c84a879bd37670ae4f538a/internal_photos/bs/2022/c/A/3DcPnMQC6h1d3HaneWDA/bilhao.jpg\"\n",
    "\n",
    "# Exibindo a imagem\n",
    "display(Image(url=url,width=600))\n"
   ]
  },
  {
   "cell_type": "code",
   "execution_count": 6,
   "id": "e8fb59c9-f304-489c-9096-31b3a5abf554",
   "metadata": {},
   "outputs": [
    {
     "data": {
      "text/html": [
       "<div>\n",
       "<style scoped>\n",
       "    .dataframe tbody tr th:only-of-type {\n",
       "        vertical-align: middle;\n",
       "    }\n",
       "\n",
       "    .dataframe tbody tr th {\n",
       "        vertical-align: top;\n",
       "    }\n",
       "\n",
       "    .dataframe thead th {\n",
       "        text-align: right;\n",
       "    }\n",
       "</style>\n",
       "<table border=\"1\" class=\"dataframe\">\n",
       "  <thead>\n",
       "    <tr style=\"text-align: right;\">\n",
       "      <th></th>\n",
       "      <th>CO_POSICAO</th>\n",
       "      <th>SG_AREA</th>\n",
       "      <th>CO_ITEM</th>\n",
       "      <th>TX_GABARITO</th>\n",
       "      <th>CO_HABILIDADE</th>\n",
       "      <th>IN_ITEM_ABAN</th>\n",
       "      <th>TX_MOTIVO_ABAN</th>\n",
       "      <th>NU_PARAM_A</th>\n",
       "      <th>NU_PARAM_B</th>\n",
       "      <th>NU_PARAM_C</th>\n",
       "      <th>TX_COR</th>\n",
       "      <th>CO_PROVA</th>\n",
       "      <th>TP_LINGUA</th>\n",
       "      <th>IN_ITEM_ADAPTADO</th>\n",
       "    </tr>\n",
       "  </thead>\n",
       "  <tbody>\n",
       "    <tr>\n",
       "      <th>861</th>\n",
       "      <td>175</td>\n",
       "      <td>MT</td>\n",
       "      <td>60441</td>\n",
       "      <td>E</td>\n",
       "      <td>1</td>\n",
       "      <td>0</td>\n",
       "      <td>NaN</td>\n",
       "      <td>1.42701</td>\n",
       "      <td>-0.02398</td>\n",
       "      <td>0.11013</td>\n",
       "      <td>AZUL</td>\n",
       "      <td>1075</td>\n",
       "      <td>NaN</td>\n",
       "      <td>0</td>\n",
       "    </tr>\n",
       "    <tr>\n",
       "      <th>5011</th>\n",
       "      <td>175</td>\n",
       "      <td>MT</td>\n",
       "      <td>60441</td>\n",
       "      <td>E</td>\n",
       "      <td>1</td>\n",
       "      <td>0</td>\n",
       "      <td>NaN</td>\n",
       "      <td>1.42701</td>\n",
       "      <td>-0.02398</td>\n",
       "      <td>0.11013</td>\n",
       "      <td>AZUL</td>\n",
       "      <td>1183</td>\n",
       "      <td>NaN</td>\n",
       "      <td>0</td>\n",
       "    </tr>\n",
       "  </tbody>\n",
       "</table>\n",
       "</div>"
      ],
      "text/plain": [
       "      CO_POSICAO SG_AREA  CO_ITEM TX_GABARITO  CO_HABILIDADE  IN_ITEM_ABAN  \\\n",
       "861          175      MT    60441           E              1             0   \n",
       "5011         175      MT    60441           E              1             0   \n",
       "\n",
       "     TX_MOTIVO_ABAN  NU_PARAM_A  NU_PARAM_B  NU_PARAM_C TX_COR  CO_PROVA  \\\n",
       "861             NaN     1.42701    -0.02398     0.11013   AZUL      1075   \n",
       "5011            NaN     1.42701    -0.02398     0.11013   AZUL      1183   \n",
       "\n",
       "      TP_LINGUA  IN_ITEM_ADAPTADO  \n",
       "861         NaN                 0  \n",
       "5011        NaN                 0  "
      ]
     },
     "execution_count": 6,
     "metadata": {},
     "output_type": "execute_result"
    }
   ],
   "source": [
    "df[(df['SG_AREA']=='MT') & (df['TX_COR']=='AZUL') & (df['CO_POSICAO']==175) & (df['TX_GABARITO']=='E')]"
   ]
  },
  {
   "cell_type": "code",
   "execution_count": 7,
   "id": "994243e5-fc3d-44bd-9073-51242ba79ce9",
   "metadata": {},
   "outputs": [
    {
     "data": {
      "text/plain": [
       "CO_POSICAO              175\n",
       "SG_AREA                  MT\n",
       "CO_ITEM               60441\n",
       "TX_GABARITO               E\n",
       "CO_HABILIDADE             1\n",
       "IN_ITEM_ABAN              0\n",
       "TX_MOTIVO_ABAN          NaN\n",
       "NU_PARAM_A          1.42701\n",
       "NU_PARAM_B         -0.02398\n",
       "NU_PARAM_C          0.11013\n",
       "TX_COR                 AZUL\n",
       "CO_PROVA               1075\n",
       "TP_LINGUA               NaN\n",
       "IN_ITEM_ADAPTADO          0\n",
       "Name: 861, dtype: object"
      ]
     },
     "execution_count": 7,
     "metadata": {},
     "output_type": "execute_result"
    }
   ],
   "source": [
    "questao1=df.iloc[861]\n",
    "questao1"
   ]
  },
  {
   "cell_type": "code",
   "execution_count": 8,
   "id": "0f2a2b5a-47e2-4929-b3f8-c402da395ec5",
   "metadata": {},
   "outputs": [],
   "source": [
    "habilidade=np.linspace(-5,5,100)"
   ]
  },
  {
   "cell_type": "code",
   "execution_count": 9,
   "id": "d7b0e281-7e62-4f6d-8d12-05a26f8b1db9",
   "metadata": {},
   "outputs": [],
   "source": [
    "def PofQuestion(h,question):\n",
    "    return tri.P(h,question.NU_PARAM_A,question.NU_PARAM_B,question.NU_PARAM_C)\n",
    "    "
   ]
  },
  {
   "cell_type": "code",
   "execution_count": 32,
   "id": "34abb2ff-234d-46cf-8fe6-932511c1dd82",
   "metadata": {},
   "outputs": [
    {
     "data": {
      "text/plain": [
       "Text(0, 0.5, 'Probabilidade de acerto')"
      ]
     },
     "execution_count": 32,
     "metadata": {},
     "output_type": "execute_result"
    },
    {
     "data": {
      "image/png": "[encoded data removed]",
      "text/plain": [
       "<Figure size 640x480 with 1 Axes>"
      ]
     },
     "metadata": {},
     "output_type": "display_data"
    }
   ],
   "source": [
    "plt.plot( 500+100*habilidade, [PofQuestion(h,questao1) for h in habilidade] )\n",
    "plt.axvline(x=500+100*questao1.NU_PARAM_B, color='red', linestyle='--', linewidth=2)\n",
    "plt.gca().xaxis.set_major_locator(MultipleLocator(100))\n",
    "plt.gca().yaxis.set_major_locator(MultipleLocator(0.1))\n",
    "plt.grid(axis='both')\n",
    "\n",
    "plt.xlabel('Habilidade')\n",
    "plt.ylabel('Probabilidade de acerto')\n"
   ]
  },
  {
   "cell_type": "markdown",
   "id": "2ef3c760-f9b5-4d90-bf15-d53bdf1cf902",
   "metadata": {},
   "source": [
    "# 2) Dados dos alunos"
   ]
  },
  {
   "cell_type": "code",
   "execution_count": 11,
   "id": "a688100c-0b64-4a74-8005-d013834406e6",
   "metadata": {},
   "outputs": [],
   "source": [
    "f_microdados22='/home/master/Documentos/ITA/pesquisa/LPECT/DADOS/ENEM/microdados_enem_2022/DADOS/MICRODADOS_ENEM_2022.csv'\n",
    "dfMicro22=pd.read_csv(f_microdados22, encoding='latin',sep=';')"
   ]
  },
  {
   "cell_type": "code",
   "execution_count": 33,
   "id": "19c484c1-5452-48ee-8c03-7d8ffb54df2c",
   "metadata": {},
   "outputs": [],
   "source": [
    "dfMicro22.head(10);"
   ]
  },
  {
   "cell_type": "code",
   "execution_count": 34,
   "id": "8a034164-b4f9-4d5e-b8d2-519f02110744",
   "metadata": {},
   "outputs": [],
   "source": [
    "dfMicro22.columns;"
   ]
  },
  {
   "cell_type": "code",
   "execution_count": 14,
   "id": "7fd4f9e8-91eb-4ab6-8c04-03ff64427272",
   "metadata": {},
   "outputs": [
    {
     "data": {
      "text/plain": [
       "count     3476105\n",
       "unique          2\n",
       "top         False\n",
       "freq      2526724\n",
       "Name: NU_NOTA_MT, dtype: object"
      ]
     },
     "execution_count": 14,
     "metadata": {},
     "output_type": "execute_result"
    }
   ],
   "source": [
    "(dfMicro22['NU_NOTA_MT']<(500+100*questao1.NU_PARAM_B)).describe()"
   ]
  },
  {
   "cell_type": "code",
   "execution_count": 38,
   "id": "7aa24bb4-2243-4581-9af8-605c136c78f3",
   "metadata": {},
   "outputs": [],
   "source": [
    "above=2526724/3476105"
   ]
  },
  {
   "cell_type": "code",
   "execution_count": 35,
   "id": "c40b7c2a-83e6-4024-afb8-bf29bbf9462c",
   "metadata": {},
   "outputs": [
    {
     "data": {
      "text/plain": [
       "<matplotlib.lines.Line2D at 0x7406c1899af0>"
      ]
     },
     "execution_count": 35,
     "metadata": {},
     "output_type": "execute_result"
    },
    {
     "data": {
      "image/png": "[encoded data removed]",
      "text/plain": [
       "<Figure size 640x480 with 1 Axes>"
      ]
     },
     "metadata": {},
     "output_type": "display_data"
    }
   ],
   "source": [
    "dfMicro22['NU_NOTA_MT'].hist(bins=20)\n",
    "plt.axvline(x=500+100*questao1.NU_PARAM_B, color='red', linestyle='--', linewidth=2)"
   ]
  },
  {
   "cell_type": "markdown",
   "id": "80ae55e6-a471-4d32-9e26-8ec0900741a3",
   "metadata": {},
   "source": [
    "#2 Pessoas abaixo desse nível de habilidade:\n"
   ]
  },
  {
   "cell_type": "code",
   "execution_count": 43,
   "id": "6cfeee76-1b39-497b-9458-e55ae28da4fa",
   "metadata": {
    "scrolled": true
   },
   "outputs": [
    {
     "data": {
      "text/plain": [
       "0.27311631840810335"
      ]
     },
     "execution_count": 43,
     "metadata": {},
     "output_type": "execute_result"
    }
   ],
   "source": [
    "1-above"
   ]
  },
  {
   "cell_type": "code",
   "execution_count": 17,
   "id": "c196b59a-8e85-4075-acc8-1dd239e49d29",
   "metadata": {},
   "outputs": [],
   "source": [
    "#dfMicro22['CO_PROVA_CN']"
   ]
  },
  {
   "cell_type": "code",
   "execution_count": 18,
   "id": "b65ad985-d7d2-4309-be0d-cbba13fe5190",
   "metadata": {},
   "outputs": [],
   "source": [
    "provasAzuis=dfMicro22[dfMicro22['CO_PROVA_MT']==1075]"
   ]
  },
  {
   "cell_type": "code",
   "execution_count": 19,
   "id": "b0ae70ee-ed6d-4fd8-af1b-8a2044c4dc8e",
   "metadata": {},
   "outputs": [
    {
     "data": {
      "text/plain": [
       "<Axes: >"
      ]
     },
     "execution_count": 19,
     "metadata": {},
     "output_type": "execute_result"
    },
    {
     "data": {
      "image/png": "[encoded data removed]",
      "text/plain": [
       "<Figure size 640x480 with 1 Axes>"
      ]
     },
     "metadata": {},
     "output_type": "display_data"
    }
   ],
   "source": [
    "provasAzuis['TX_RESPOSTAS_MT'].dropna().apply(lambda s: s[175-91-45] ).hist()"
   ]
  },
  {
   "cell_type": "code",
   "execution_count": 20,
   "id": "291eb586-f053-4cf8-916d-0848c68fbde6",
   "metadata": {},
   "outputs": [
    {
     "data": {
      "text/plain": [
       "count     578780\n",
       "unique         7\n",
       "top            E\n",
       "freq      367928\n",
       "Name: TX_RESPOSTAS_MT, dtype: object"
      ]
     },
     "execution_count": 20,
     "metadata": {},
     "output_type": "execute_result"
    }
   ],
   "source": [
    "provasAzuis['TX_RESPOSTAS_MT'].dropna().apply(lambda s: s[175-91-45] ).describe()"
   ]
  },
  {
   "cell_type": "code",
   "execution_count": 41,
   "id": "b3ad3e78-98dc-481b-8877-cfbe12ca8781",
   "metadata": {},
   "outputs": [
    {
     "data": {
      "text/plain": [
       "0.3643042261308269"
      ]
     },
     "execution_count": 41,
     "metadata": {},
     "output_type": "execute_result"
    }
   ],
   "source": [
    "tAcerto=367928/578780\n",
    "tErro=1-tAcerto\n",
    "tErro"
   ]
  },
  {
   "cell_type": "code",
   "execution_count": null,
   "id": "2058a289-b074-464b-b098-29f01c3486be",
   "metadata": {},
   "outputs": [],
   "source": []
  }
 ],
 "metadata": {
  "kernelspec": {
   "display_name": "Python 3 (ipykernel)",
   "language": "python",
   "name": "python3"
  },
  "language_info": {
   "codemirror_mode": {
    "name": "ipython",
    "version": 3
   },
   "file_extension": ".py",
   "mimetype": "text/x-python",
   "name": "python",
   "nbconvert_exporter": "python",
   "pygments_lexer": "ipython3",
   "version": "3.12.3"
  }
 },
 "nbformat": 4,
 "nbformat_minor": 5
}
